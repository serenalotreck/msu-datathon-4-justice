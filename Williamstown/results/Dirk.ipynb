{
 "cells": [
  {
   "cell_type": "markdown",
   "metadata": {},
   "source": [
    "# Text Parser Testing document\n",
    "\n",
    "This document is going to read the text file found in ../generated_data/Logs2020OCR_avepdf.com_horizontal.txt which was generated using the following website:\n",
    "\n",
    "\n",
    "[avepdf.com](http://avepdf.com/)"
   ]
  },
  {
   "cell_type": "code",
   "execution_count": null,
   "metadata": {},
   "outputs": [],
   "source": [
    "import re # Regulra expresion library"
   ]
  },
  {
   "cell_type": "code",
   "execution_count": null,
   "metadata": {},
   "outputs": [],
   "source": [
    "#filename='../generated_data/Logs2020OCR_avepdf.com_horizontal.txt'\n",
    "filename='../generated_data/Logs2019OCR_avepdf.com_horizontal.txt'"
   ]
  },
  {
   "cell_type": "code",
   "execution_count": null,
   "metadata": {},
   "outputs": [],
   "source": [
    "# read file in as a list of lines\n",
    "lines = []\n",
    "with open(filename) as f:\n",
    "    lines = f.readlines()\n",
    "    \n",
    "for ind in range(len(lines)):\n",
    "    lines[ind] = lines[ind].lstrip().rstrip()"
   ]
  },
  {
   "cell_type": "code",
   "execution_count": null,
   "metadata": {
    "scrolled": true
   },
   "outputs": [],
   "source": [
    "#lines"
   ]
  },
  {
   "cell_type": "code",
   "execution_count": null,
   "metadata": {},
   "outputs": [],
   "source": [
    "# Parse cells using 20-1 regular expresisons\n",
    "# Result is a list of list where each call is a list of lines for the call.\n",
    "calls = []\n",
    "\n",
    "call = []\n",
    "for line in lines:\n",
    "    if line == '':\n",
    "        pass\n",
    "    else:\n",
    "        if re.match(\"[1-2][9,0]-[0-9]+\\s\", line[:10]):\n",
    "            if len(call) > 0:\n",
    "                calls.append(call)\n",
    "                call = []\n",
    "        call.append(line)\n",
    "if len(call) > 0:\n",
    "    call.append(line)"
   ]
  },
  {
   "cell_type": "code",
   "execution_count": null,
   "metadata": {},
   "outputs": [],
   "source": [
    "len(calls)"
   ]
  },
  {
   "cell_type": "code",
   "execution_count": null,
   "metadata": {},
   "outputs": [],
   "source": [
    "calls[-1]"
   ]
  },
  {
   "cell_type": "code",
   "execution_count": null,
   "metadata": {},
   "outputs": [],
   "source": [
    "def parseHeader(line):\n",
    "    print(line)\n",
    "    index_past = 0\n",
    "        \n",
    "    callNumberMatch = re.search(\"[19,20]-\\d+\", line)\n",
    "    if callNumberMatch is not None:\n",
    "        callNumber = callNumberMatch.group()\n",
    "        index_past = callNumberMatch.span()[1] + 1\n",
    "    else:\n",
    "        callNumber = None\n",
    "        \n",
    "    timeMatch = re.search(\"\\d\\d\\d\\d\", line[index_past:])\n",
    "    if timeMatch is not None:\n",
    "        callTime = timeMatch.group()\n",
    "        index_past += timeMatch.span()[1]+1\n",
    "    else:\n",
    "        callTime = None\n",
    "        \n",
    "    spaces = 0\n",
    "    index = len(line)-1\n",
    "    while spaces < 8:\n",
    "        if line[index] == \" \":\n",
    "            spaces += 1\n",
    "        else:\n",
    "            spaces = 0\n",
    "        index -= 1\n",
    "    callReason = re.sub(\"\\s+\", \" \", line[index_past:index])\n",
    "    if callReason[0] == \" \":\n",
    "        callReason = callReason[1:]\n",
    "    if callReason[-1] == \" \":\n",
    "        callReason = callReason[:-1]\n",
    "    callAction = re.sub(\"\\s+\", \" \", line[index+8:])\n",
    "    if callAction[0] == \" \":\n",
    "        callAction = callAction[1:]\n",
    "    if callAction[-1] == \" \":\n",
    "        callAction = callAction[:-1]\n",
    "        \n",
    "    return [callNumber, callTime, callReason, callAction]\n",
    "\n",
    "def get_unit_times(unit_str):\n",
    "    print(unit_str)\n",
    "    times = re.sub(' +', ' ',unit_str).split(' ')\n",
    "    tm_dict = {}\n",
    "    for tm in times:\n",
    "        if '-' in tm:\n",
    "            vals = tm.split('-')\n",
    "            tm_dict[vals[0]] = vals[-1]\n",
    "    return tm_dict\n",
    "\n",
    "def parse_call_list(call):\n",
    "    '''Parse a call list into a dictionary'''\n",
    "    \n",
    "    if len(call) == 0:\n",
    "        return\n",
    "    \n",
    "    my_call = {}\n",
    "    \n",
    "#     header = parseHeader(call[0])\n",
    "#     my_call['callNumber'] = header[0]\n",
    "#     my_call['callTime'] = header[1]\n",
    "#     my_call['callReason'] = header[2]\n",
    "#     my_call['callAction]']= header[3]\n",
    "    my_call['header'] = call[0]\n",
    "    \n",
    "    \n",
    "\n",
    "    \n",
    "    ind = 0\n",
    "    individual = ''\n",
    "    while ind < len(call):\n",
    "        line = call[ind]\n",
    "        myline = line.split(':')\n",
    "        if len(myline) == 2:\n",
    "            tag = myline[0].rstrip().lstrip()\n",
    "            tag = re.sub(' +', ' ',tag)\n",
    "            value = myline[1].rstrip().lstrip()\n",
    "            if tag == 'Narrative':\n",
    "                if tag in my_call:\n",
    "                    narrative = my_call['Narrative']\n",
    "                else:\n",
    "                    narrative = ''\n",
    "                ind +=1\n",
    "                while ind < len(call):\n",
    "                    myline = call[ind].split(':')\n",
    "                    if len(myline) == 1:\n",
    "                        narrative += re.sub(' +', ' ',call[ind]) + \" \"\n",
    "                    ind += 1\n",
    "                my_call['Narrative'] = narrative\n",
    "            else:\n",
    "                if tag == \"Unit\":\n",
    "                    ind += 1;\n",
    "                    if ind < len(call):\n",
    "                        unit_info = get_unit_times(call[ind])\n",
    "                        if 'Units' in my_call:\n",
    "                            my_call['Units'].append((value, unit_info))\n",
    "                        else:\n",
    "                            my_call['Units'] = [(value, unit_info)]\n",
    "                else:\n",
    "                    if tag == \"Operator\" or tag == \"Owner\":\n",
    "                        individual=tag+\"_\"\n",
    "                    my_call[tag] = value\n",
    "        else:\n",
    "            if len(myline) > 2:\n",
    "                tags = re.findall('[\\S]+:', line)\n",
    "\n",
    "                for tag in reversed(tags):\n",
    "                    start = line.rindex(tag)\n",
    "                    value = line[start+len(tag):].rstrip().lstrip()\n",
    "\n",
    "                    if len(value) > 0:\n",
    "                        tag = tag[:-1]\n",
    "                        my_call[individual+tag] = value\n",
    "                        line = line[:line.rindex(tag)]\n",
    "        ind +=1\n",
    "    return(my_call)"
   ]
  },
  {
   "cell_type": "code",
   "execution_count": null,
   "metadata": {
    "scrolled": true
   },
   "outputs": [],
   "source": [
    "#Parse an individual call\n",
    "parse_call_list(calls[44])"
   ]
  },
  {
   "cell_type": "code",
   "execution_count": null,
   "metadata": {},
   "outputs": [],
   "source": [
    "#Parse all of the calls\n",
    "call_dicts =[]\n",
    "unit = ''\n",
    "for call in calls:\n",
    "    my_call = parse_call_list(call)\n",
    "    call_dicts.append(my_call)\n",
    "    print(my_call['header'])"
   ]
  },
  {
   "cell_type": "code",
   "execution_count": null,
   "metadata": {},
   "outputs": [],
   "source": [
    "call_dicts[1]"
   ]
  },
  {
   "cell_type": "code",
   "execution_count": null,
   "metadata": {
    "scrolled": true
   },
   "outputs": [],
   "source": [
    "total_stops = 0\n",
    "tot = 0\n",
    "total_race = {}\n",
    "norace = 0\n",
    "my_stops = []\n",
    "for call in call_dicts:\n",
    "    if 'Call Taker' in call:\n",
    "        if \"craig\" in call['Call Taker'].lower():\n",
    "            tot += 1\n",
    "            #print(call['header'])\n",
    "            if \"STOP\" in call['header']:\n",
    "                my_stops.append(call)\n",
    "                total_stops += 1\n",
    "                if 'Operator_Race' in call:\n",
    "                    race = call['Operator_Race'].lower()\n",
    "                    if race in total_race:\n",
    "                        total_race[race] = total_race[race]+1\n",
    "                    else:\n",
    "                        total_race[race] = 1\n",
    "                else:\n",
    "                    norace +=1"
   ]
  },
  {
   "cell_type": "code",
   "execution_count": null,
   "metadata": {},
   "outputs": [],
   "source": [
    "tot"
   ]
  },
  {
   "cell_type": "code",
   "execution_count": null,
   "metadata": {},
   "outputs": [],
   "source": [
    "total_stops # by hammer"
   ]
  },
  {
   "cell_type": "code",
   "execution_count": null,
   "metadata": {},
   "outputs": [],
   "source": [
    "total_race"
   ]
  },
  {
   "cell_type": "code",
   "execution_count": null,
   "metadata": {},
   "outputs": [],
   "source": [
    "my_stops"
   ]
  },
  {
   "cell_type": "code",
   "execution_count": null,
   "metadata": {},
   "outputs": [],
   "source": [
    "# # Print out only the narratives\n",
    "\n",
    "# for call in call_dicts:\n",
    "#     if \"Narrative\" in call:\n",
    "#         print(call['Narrative'])\n",
    "#         print('\\n')"
   ]
  },
  {
   "cell_type": "code",
   "execution_count": null,
   "metadata": {},
   "outputs": [],
   "source": [
    "from ipywidgets import interact\n",
    "# use interact decorator to decorate the function, so the function can receive the slide bar's value with parameter x.\n",
    "@interact(x=(0, 100))\n",
    "def double_number(x):\n",
    "    print(\"The double of %d is %d.\" % (x, x*2))\n",
    "    \n",
    "# add another slide bar to this function with the interact decorator.    \n",
    "@interact(y=(0, 10))\n",
    "def square_number(y):\n",
    "    print(\"The square of %d is %d.\" % (y, y**2))"
   ]
  },
  {
   "cell_type": "code",
   "execution_count": null,
   "metadata": {},
   "outputs": [],
   "source": []
  }
 ],
 "metadata": {
  "kernelspec": {
   "display_name": "Python 3 (ipykernel)",
   "language": "python",
   "name": "python3"
  },
  "language_info": {
   "codemirror_mode": {
    "name": "ipython",
    "version": 3
   },
   "file_extension": ".py",
   "mimetype": "text/x-python",
   "name": "python",
   "nbconvert_exporter": "python",
   "pygments_lexer": "ipython3",
   "version": "3.9.7"
  }
 },
 "nbformat": 4,
 "nbformat_minor": 4
}
