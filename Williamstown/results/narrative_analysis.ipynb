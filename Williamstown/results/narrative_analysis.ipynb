{
 "cells": [
  {
   "cell_type": "markdown",
   "metadata": {},
   "source": [
    "# Narrative Analysis\n",
    "In the Williamstown police department data, there are frequently \"Narrative\" fields associated with each incident. We have several overarching questions regarding these narratives, which include:\n",
    "* Is there evidence of the \"boys will be boys\" culture instilled in the department by the previous police chief in the descriptions of incidents and interactions with people of varying demographic backgrounds and incident types? (e.g. do the narratives about noise complaints for parties differ from narratives about the police being called on a young woman?)\n",
    "* Is there evidence that third shift is being more problematic (more tickets, etc) than other shifts? (This question is prompted by the recent revelation that the cop with the Hitler photo in his locker had been leading third shift cops in illegal searches of racial justice activists in the town)\n",
    "* How much time in each shift is, on average, occupied by responding to calls? (This question is aimed at either supporting or disproving the hypothesis that there are too many cops in the department, and that potentially something like third shift could be handled by one on-call individual)\n",
    "* How often and for what types of incidents does Williamstown PD respond to incidents at Williams College? (The PD listens to the Williams College dispatch and responds if the incidents are sever enough/may affect the town itself)\n",
    "\n",
    "In this notebook I'll be relying on [spaCy](https://spacy.io/) to manipulate text. spaCy is a natural language processing (NLP) library that provides functionality for a variety of tasks."
   ]
  },
  {
   "cell_type": "markdown",
   "metadata": {},
   "source": [
    "## Sentiment analysis\n",
    "In this section, we'll explore the use of [sentiment analysis](https://monkeylearn.com/sentiment-analysis/) to see if there is any difference in percieved sentiment across police narratives for different calls. Ideas for this section include:\n",
    "* Associating incident type with narartive sentiment \n",
    "* Associating citizen and cop dempgraphic data with narrative sentiment \n",
    "* Associating specific officers with the average narrative sentiment of thier calls "
   ]
  },
  {
   "cell_type": "markdown",
   "metadata": {},
   "source": [
    "### Polarity analysis\n",
    "Polarity analysis examines whether a text is positive, negative, or neutral in sentiment\n",
    "#### spaCy TextBlob\n",
    "[spaCy TextBlob](https://spacy.io/universe/project/spacy-textblob) is a spaCy pipeline component that connects spaCy's functionality to the [TextBlob](https://github.com/sloria/TextBlob) module. In addition to polarity analysis, it also does subjectivity analysis, which is a score representing how subjective a piece of text is."
   ]
  },
  {
   "cell_type": "code",
   "execution_count": 3,
   "metadata": {},
   "outputs": [
    {
     "data": {
      "text/plain": [
       "<spacytextblob.spacytextblob.SpacyTextBlob at 0x7fce29930910>"
      ]
     },
     "execution_count": 3,
     "metadata": {},
     "output_type": "execute_result"
    }
   ],
   "source": [
    "import spacy\n",
    "from spacytextblob.spacytextblob import SpacyTextBlob\n",
    "\n",
    "nlp = spacy.load('en_core_web_sm')\n",
    "nlp.add_pipe('spacytextblob')"
   ]
  },
  {
   "cell_type": "markdown",
   "metadata": {},
   "source": [
    "In this notebook I'll be manually pasting examples of narratives; but this will have to be scaled up once the OCR pipeline is done."
   ]
  },
  {
   "cell_type": "code",
   "execution_count": 6,
   "metadata": {},
   "outputs": [
    {
     "data": {
      "text/plain": [
       "(0.11666666666666665, 0.8000000000000002)"
      ]
     },
     "execution_count": 6,
     "metadata": {},
     "output_type": "execute_result"
    }
   ],
   "source": [
    "# Call 20-4\n",
    "text = (\"Activated Burglar Alarm. Key Holder Notified. Advised Dispatch that they have been having trouble with one of the zones. \"\n",
    "        \"31 advised no need for key holder all is ok.\"\n",
    "        \"Checked building. Front and rear secure. All appears in order. Key holder was on phone with dispatch and satisfied.\")\n",
    "doc = nlp(text)\n",
    "\n",
    "doc._.polarity, doc._.subjectivity"
   ]
  },
  {
   "cell_type": "markdown",
   "metadata": {},
   "source": [
    "From the [TextBlob docs](https://textblob.readthedocs.io/en/dev/quickstart.html#sentiment-analysis): \"The polarity score is a float within the range [-1.0, 1.0]. The subjectivity is a float within the range [0.0, 1.0] where 0.0 is very objective and 1.0 is very subjective.\""
   ]
  },
  {
   "cell_type": "code",
   "execution_count": 7,
   "metadata": {},
   "outputs": [
    {
     "data": {
      "text/plain": [
       "(0.18333333333333335, 0.7444444444444445)"
      ]
     },
     "execution_count": 7,
     "metadata": {},
     "output_type": "execute_result"
    }
   ],
   "source": [
    "# Call 20-6\n",
    "text = (\"Active Structure fire. 1 party still inside at this time. \"\n",
    "        \"Car 1 requesting to see if an officer can check the house aroud 0600 to make sure there are no signs of the fire reigniting.\"\n",
    "        \"House checked\")\n",
    "doc = nlp(text)\n",
    "\n",
    "doc._.polarity, doc._.subjectivity"
   ]
  },
  {
   "cell_type": "markdown",
   "metadata": {},
   "source": [
    "#### Using Dirk's parser\n",
    "Dirk wrote a notebook with a parser for the PDF-to-text documen tthat Elijah provided, which is a rudimentary source of all the data. Copying and pasting from the `ParseOCRed_text.ipynb` notebook:"
   ]
  },
  {
   "cell_type": "code",
   "execution_count": 8,
   "metadata": {},
   "outputs": [],
   "source": [
    "import re"
   ]
  },
  {
   "cell_type": "code",
   "execution_count": 9,
   "metadata": {},
   "outputs": [],
   "source": [
    "filename = '../generated_data/Logs2020OCR_avepdf.com_horizontal.txt'"
   ]
  },
  {
   "cell_type": "code",
   "execution_count": 10,
   "metadata": {},
   "outputs": [],
   "source": [
    "lines = []\n",
    "with open(filename) as f:\n",
    "    lines = f.readlines()\n",
    "    \n",
    "for ind in range(len(lines)):\n",
    "    lines[ind] = lines[ind].lstrip().rstrip()"
   ]
  },
  {
   "cell_type": "code",
   "execution_count": 11,
   "metadata": {},
   "outputs": [],
   "source": [
    "calls = []\n",
    "\n",
    "call = []\n",
    "for line in lines:\n",
    "    if line == '':\n",
    "        if len(call) > 0:\n",
    "            calls.append(call)\n",
    "            call=[]\n",
    "    else:\n",
    "        call.append(line)"
   ]
  },
  {
   "cell_type": "code",
   "execution_count": 12,
   "metadata": {},
   "outputs": [
    {
     "data": {
      "text/plain": [
       "18070"
      ]
     },
     "execution_count": 12,
     "metadata": {},
     "output_type": "execute_result"
    }
   ],
   "source": [
    "len(calls)"
   ]
  },
  {
   "cell_type": "markdown",
   "metadata": {},
   "source": [
    "#### Getting narrative sentiment for different officers\n",
    "Here, I'm going to try to correlate narrative sentiment to the Call Taker (officer) responding to the incident. I'm going to, for each call, get the call number, the call taker, and the narrative in a df, and then do a groupby on the sentiment and subjectivity for each officer,"
   ]
  },
  {
   "cell_type": "code",
   "execution_count": 14,
   "metadata": {},
   "outputs": [],
   "source": [
    "import pandas as pd"
   ]
  },
  {
   "cell_type": "code",
   "execution_count": 15,
   "metadata": {},
   "outputs": [],
   "source": [
    "# Define a regex to find valid call numbers\n",
    "call_num_regex = '\\d+-\\d+'\n",
    "\n",
    "# Go through calls and keep only those with a valid call number \n",
    "valid_calls = []\n",
    "for call in calls:\n",
    "    match = re.match(call_num_regex, call[0])\n",
    "    if match:\n",
    "         valid_calls.append(call)"
   ]
  },
  {
   "cell_type": "code",
   "execution_count": 16,
   "metadata": {},
   "outputs": [
    {
     "data": {
      "text/plain": [
       "7062"
      ]
     },
     "execution_count": 16,
     "metadata": {},
     "output_type": "execute_result"
    }
   ],
   "source": [
    "len(valid_calls)"
   ]
  },
  {
   "cell_type": "code",
   "execution_count": 17,
   "metadata": {
    "scrolled": true
   },
   "outputs": [
    {
     "data": {
      "text/plain": [
       "[['20-1                          0036         Initiated         - MOTOR  VEHICLE  STOP                              CITATION   - WARNING'],\n",
       " ['20-2                          0128         Phone  - B.O.L.O.                                                                   SERVICES RENDERED',\n",
       "  'Call    Taker:            MICHAEL STRIZZI',\n",
       "  'Location/Address:                 NORTH HOOSAC RD',\n",
       "  'Unit:            31',\n",
       "  'Disp-01:29:45                                          Arvd-01:31:40           Clrd-01:37:57',\n",
       "  'Unit:            34',\n",
       "  'Disp-01:29:45          Enrt-01:30:45          Arvd-01:31:54           Clrd-01:38:02',\n",
       "  'Unit:             37K',\n",
       "  'Disp-01:29:45                                                                           Clrd-01:30:53',\n",
       "  'Narrative:',\n",
       "  'Erratic       opp  from    North    Adams.  Maroon    vehicle      VT  plates.',\n",
       "  'Traveling       west    on  Mass  Ave.    Possibly      no   rear    bumper.'],\n",
       " ['20-3                          0201         Phone   - B.O.L.O.                                                                  UNABLE TO LOCATE',\n",
       "  'Call     Taker:           MICHAEL  STRIZZI',\n",
       "  'Location/Address:                MAIN  ST',\n",
       "  'Unit:            31',\n",
       "  'Disp-02:03:32          Enrt-02:03,44          Arvd-02,06:14          Clrd-02:07,33',\n",
       "  'Unit:            34',\n",
       "  'Disp-02:03:32           Enrt-02:03:43          Arvd-02,06:22          Clrd-02:07:49',\n",
       "  'Narrative:',\n",
       "  'NAPD reports      light      colored      SUV hit     a  light      post     in   someones',\n",
       "  'front      lawn   at   - State           Rd  in    NA and   is    headed   West   into',\n",
       "  'Williamstown.'],\n",
       " ['20-4                         0204         911   - ALARM   - BURGLAR                                                  ALARM FALSE',\n",
       "  'Call    Taker:           MICHAEL  STRIZZI',\n",
       "  'Location/Address:                 [WIA  240]    COLE AVE',\n",
       "  'Unit:             31',\n",
       "  'Disp-02:0B,22         Enrt-02,08:45          Arvd-02:10:08           Clrd-02,20:06'],\n",
       " ['20-6                         0253         911   - ASSIST    OTHER AGENCY-   FIRE                           SERVICES RENDERED',\n",
       "  'Call    Taker:            MICHAEL STRIZZI',\n",
       "  'Location/Address:                 [WIA   1977]   LUCE RD',\n",
       "  'Unit:             31',\n",
       "  'Disp-02:55:21                                          Arvd-03:00:52          Clrd-03:23:41',\n",
       "  'Unit:             34',\n",
       "  'Disp-02:55:37                                          Arvd-03:00:56          Clrd-04:02:32',\n",
       "  'Narrative:',\n",
       "  'Active      Structure       fire.       l   party     still        inside      at   this      time.'],\n",
       " ['20-8                          0412         Initiated         - PARKING   CHECK                                        SERVICES RENDERED',\n",
       "  'Call     Taker:           PATROL CRAIG A   EICHHAMMER',\n",
       "  'Location/Address:                 [WIA  390]    SIMONDS RD',\n",
       "  'Unit:            31',\n",
       "  'Arvd-04:12:58          Clrd-04:13:13'],\n",
       " ['20-10                        0744         Initiated         - BUILDING    CHECK                                      BUILDING   CHECKED/SECURED'],\n",
       " ['20-11                       0820         Initiated          - BUILDING    CHECK                                      BUILDING  CHECKED/SECURED'],\n",
       " ['20-12                            0822           Initiated            - BUILDING        CHECK                                            BUILDING     CHECKED/SECURED'],\n",
       " ['20-13                            0830           Initiated            - BUILDING       CHECK                                             BUILDING     CHECKED/SECURED']]"
      ]
     },
     "execution_count": 17,
     "metadata": {},
     "output_type": "execute_result"
    }
   ],
   "source": [
    "valid_calls[:10]"
   ]
  },
  {
   "cell_type": "code",
   "execution_count": 18,
   "metadata": {},
   "outputs": [],
   "source": [
    "from collections import defaultdict"
   ]
  },
  {
   "cell_type": "code",
   "execution_count": 44,
   "metadata": {},
   "outputs": [],
   "source": [
    "# Make a dict for the pandas df\n",
    "# Keys are 'call_num', 'call_taker', 'narrative'\n",
    "\n",
    "call_num_regex = '\\d+-\\d+'\n",
    "call_taker_regex = re.compile('Call\\s+Taker:')\n",
    "\n",
    "call_dict = defaultdict(list)\n",
    "for call in valid_calls:\n",
    "    if 'Narrative:' in call:\n",
    "        \n",
    "        # Get call number\n",
    "        call_num_match = re.match(call_num_regex, call[0])\n",
    "        call_num = call[0][:call_num_match.end()]\n",
    "        \n",
    "        # Get the call taker\n",
    "        call_taker_list = list(filter(call_taker_regex.match, call)) # Looks for the element of the call that contains the call taker\n",
    "        if len(call_taker_list) > 0:\n",
    "            call_taker_match = re.match(call_taker_regex, call_taker_list[0]) \n",
    "            call_taker = call[1][call_taker_match.end():].strip() # Get rid of leading and trailing \n",
    "            call_taker = ' '.join(call_taker.split()) # Make sure all spaces are single whitespaces so that the same officers' names are always identical\n",
    "        else: call_taker = None\n",
    "        \n",
    "        # Get narrative\n",
    "        narr_idx = call.index('Narrative:')\n",
    "        if narr_idx != len(call)-1:\n",
    "            narrative = ' '.join(call[narr_idx+1:])\n",
    "            narrative = ' '.join(narrative.split())\n",
    "        else: narrative = None\n",
    "            \n",
    "        # Assign all to the dict\n",
    "        if (call_taker is not None) and (narrative is not None): \n",
    "            call_dict[\"call_num\"].append(call_num)\n",
    "            call_dict[\"call_taker\"].append(call_taker)\n",
    "            call_dict[\"narrative\"].append(narrative)"
   ]
  },
  {
   "cell_type": "code",
   "execution_count": 45,
   "metadata": {
    "scrolled": true
   },
   "outputs": [],
   "source": [
    "# Make pandas df \n",
    "call_df = pd.DataFrame(call_dict)"
   ]
  },
  {
   "cell_type": "code",
   "execution_count": 46,
   "metadata": {},
   "outputs": [
    {
     "data": {
      "text/html": [
       "<div>\n",
       "<style scoped>\n",
       "    .dataframe tbody tr th:only-of-type {\n",
       "        vertical-align: middle;\n",
       "    }\n",
       "\n",
       "    .dataframe tbody tr th {\n",
       "        vertical-align: top;\n",
       "    }\n",
       "\n",
       "    .dataframe thead th {\n",
       "        text-align: right;\n",
       "    }\n",
       "</style>\n",
       "<table border=\"1\" class=\"dataframe\">\n",
       "  <thead>\n",
       "    <tr style=\"text-align: right;\">\n",
       "      <th></th>\n",
       "      <th>call_num</th>\n",
       "      <th>call_taker</th>\n",
       "      <th>narrative</th>\n",
       "    </tr>\n",
       "  </thead>\n",
       "  <tbody>\n",
       "    <tr>\n",
       "      <th>0</th>\n",
       "      <td>20-2</td>\n",
       "      <td>MICHAEL STRIZZI</td>\n",
       "      <td>Erratic opp from North Adams. Maroon vehicle V...</td>\n",
       "    </tr>\n",
       "    <tr>\n",
       "      <th>1</th>\n",
       "      <td>20-3</td>\n",
       "      <td>MICHAEL STRIZZI</td>\n",
       "      <td>NAPD reports light colored SUV hit a light pos...</td>\n",
       "    </tr>\n",
       "    <tr>\n",
       "      <th>2</th>\n",
       "      <td>20-6</td>\n",
       "      <td>MICHAEL STRIZZI</td>\n",
       "      <td>Active Structure fire. l party still inside at...</td>\n",
       "    </tr>\n",
       "    <tr>\n",
       "      <th>3</th>\n",
       "      <td>20-14</td>\n",
       "      <td>SERGEANT SCOTT E MCGOWAN</td>\n",
       "      <td>One MV, speed: 21</td>\n",
       "    </tr>\n",
       "    <tr>\n",
       "      <th>4</th>\n",
       "      <td>20-17</td>\n",
       "      <td>PATROL DAVID JENNINGS, D</td>\n",
       "      <td>Garage interior door.</td>\n",
       "    </tr>\n",
       "    <tr>\n",
       "      <th>...</th>\n",
       "      <td>...</td>\n",
       "      <td>...</td>\n",
       "      <td>...</td>\n",
       "    </tr>\n",
       "    <tr>\n",
       "      <th>2337</th>\n",
       "      <td>20-9079</td>\n",
       "      <td>DISPATCHER WILLIAM C JENNINGS JR</td>\n",
       "      <td>RP reporting that the street sweeper from the ...</td>\n",
       "    </tr>\n",
       "    <tr>\n",
       "      <th>2338</th>\n",
       "      <td>20-9081</td>\n",
       "      <td>PATROL SHUAN N WILLIAM</td>\n",
       "      <td>done</td>\n",
       "    </tr>\n",
       "    <tr>\n",
       "      <th>2339</th>\n",
       "      <td>20-9084</td>\n",
       "      <td>PATROL KALVIN DZIEDZIAK</td>\n",
       "      <td>Checked Area.</td>\n",
       "    </tr>\n",
       "    <tr>\n",
       "      <th>2340</th>\n",
       "      <td>20-9089</td>\n",
       "      <td>SERGEANT PAUL D THOMPSON</td>\n",
       "      <td>Vehicle broke a fuel injector while traveling ...</td>\n",
       "    </tr>\n",
       "    <tr>\n",
       "      <th>2341</th>\n",
       "      <td>20-9090</td>\n",
       "      <td>BARB BRUCATO</td>\n",
       "      <td>North Adams is Bolo'ing for a gray or green Fo...</td>\n",
       "    </tr>\n",
       "  </tbody>\n",
       "</table>\n",
       "<p>2342 rows × 3 columns</p>\n",
       "</div>"
      ],
      "text/plain": [
       "     call_num                        call_taker  \\\n",
       "0        20-2                   MICHAEL STRIZZI   \n",
       "1        20-3                   MICHAEL STRIZZI   \n",
       "2        20-6                   MICHAEL STRIZZI   \n",
       "3       20-14          SERGEANT SCOTT E MCGOWAN   \n",
       "4       20-17          PATROL DAVID JENNINGS, D   \n",
       "...       ...                               ...   \n",
       "2337  20-9079  DISPATCHER WILLIAM C JENNINGS JR   \n",
       "2338  20-9081            PATROL SHUAN N WILLIAM   \n",
       "2339  20-9084           PATROL KALVIN DZIEDZIAK   \n",
       "2340  20-9089          SERGEANT PAUL D THOMPSON   \n",
       "2341  20-9090                      BARB BRUCATO   \n",
       "\n",
       "                                              narrative  \n",
       "0     Erratic opp from North Adams. Maroon vehicle V...  \n",
       "1     NAPD reports light colored SUV hit a light pos...  \n",
       "2     Active Structure fire. l party still inside at...  \n",
       "3                                     One MV, speed: 21  \n",
       "4                                 Garage interior door.  \n",
       "...                                                 ...  \n",
       "2337  RP reporting that the street sweeper from the ...  \n",
       "2338                                               done  \n",
       "2339                                      Checked Area.  \n",
       "2340  Vehicle broke a fuel injector while traveling ...  \n",
       "2341  North Adams is Bolo'ing for a gray or green Fo...  \n",
       "\n",
       "[2342 rows x 3 columns]"
      ]
     },
     "execution_count": 46,
     "metadata": {},
     "output_type": "execute_result"
    }
   ],
   "source": [
    "call_df"
   ]
  },
  {
   "cell_type": "code",
   "execution_count": 49,
   "metadata": {},
   "outputs": [],
   "source": [
    "# Define functions to apply to df columns\n",
    "def get_polarity(text):\n",
    "    \"\"\"\n",
    "    parameters:\n",
    "        text, str: text to get sentiment of \n",
    "        \n",
    "    return:\n",
    "        polarity, float: value representing polarity of the text\n",
    "    \"\"\"\n",
    "    doc = nlp(text) # Relies on jupyter allowing access to this from outside function\n",
    "    \n",
    "    return doc._.polarity\n",
    "    \n",
    "    \n",
    "def get_subjectivity(text):\n",
    "    \"\"\"\n",
    "    parameters:\n",
    "        text, str: text to get sentiment of \n",
    "        \n",
    "    return:\n",
    "        subjectivity, float: value representing subjectivity of the text\n",
    "    \"\"\"\n",
    "    doc = nlp(text)\n",
    "    \n",
    "    return doc._.subjectivity"
   ]
  },
  {
   "cell_type": "code",
   "execution_count": 50,
   "metadata": {},
   "outputs": [],
   "source": [
    "# Get narrative sentiment and subjectivity \n",
    "call_df['polarity'] = call_df['narrative'].apply(get_polarity)\n",
    "call_df['subjectivity'] = call_df['narrative'].apply(get_subjectivity)"
   ]
  },
  {
   "cell_type": "code",
   "execution_count": 51,
   "metadata": {},
   "outputs": [
    {
     "data": {
      "text/html": [
       "<div>\n",
       "<style scoped>\n",
       "    .dataframe tbody tr th:only-of-type {\n",
       "        vertical-align: middle;\n",
       "    }\n",
       "\n",
       "    .dataframe tbody tr th {\n",
       "        vertical-align: top;\n",
       "    }\n",
       "\n",
       "    .dataframe thead th {\n",
       "        text-align: right;\n",
       "    }\n",
       "</style>\n",
       "<table border=\"1\" class=\"dataframe\">\n",
       "  <thead>\n",
       "    <tr style=\"text-align: right;\">\n",
       "      <th></th>\n",
       "      <th>call_num</th>\n",
       "      <th>call_taker</th>\n",
       "      <th>narrative</th>\n",
       "      <th>polarity</th>\n",
       "      <th>subjectivity</th>\n",
       "    </tr>\n",
       "  </thead>\n",
       "  <tbody>\n",
       "    <tr>\n",
       "      <th>0</th>\n",
       "      <td>20-2</td>\n",
       "      <td>MICHAEL STRIZZI</td>\n",
       "      <td>Erratic opp from North Adams. Maroon vehicle V...</td>\n",
       "      <td>0.000000</td>\n",
       "      <td>1.0</td>\n",
       "    </tr>\n",
       "    <tr>\n",
       "      <th>1</th>\n",
       "      <td>20-3</td>\n",
       "      <td>MICHAEL STRIZZI</td>\n",
       "      <td>NAPD reports light colored SUV hit a light pos...</td>\n",
       "      <td>0.400000</td>\n",
       "      <td>0.7</td>\n",
       "    </tr>\n",
       "    <tr>\n",
       "      <th>2</th>\n",
       "      <td>20-6</td>\n",
       "      <td>MICHAEL STRIZZI</td>\n",
       "      <td>Active Structure fire. l party still inside at...</td>\n",
       "      <td>-0.133333</td>\n",
       "      <td>0.6</td>\n",
       "    </tr>\n",
       "    <tr>\n",
       "      <th>3</th>\n",
       "      <td>20-14</td>\n",
       "      <td>SERGEANT SCOTT E MCGOWAN</td>\n",
       "      <td>One MV, speed: 21</td>\n",
       "      <td>0.000000</td>\n",
       "      <td>0.0</td>\n",
       "    </tr>\n",
       "    <tr>\n",
       "      <th>4</th>\n",
       "      <td>20-17</td>\n",
       "      <td>PATROL DAVID JENNINGS, D</td>\n",
       "      <td>Garage interior door.</td>\n",
       "      <td>0.000000</td>\n",
       "      <td>0.0</td>\n",
       "    </tr>\n",
       "  </tbody>\n",
       "</table>\n",
       "</div>"
      ],
      "text/plain": [
       "  call_num                call_taker  \\\n",
       "0     20-2           MICHAEL STRIZZI   \n",
       "1     20-3           MICHAEL STRIZZI   \n",
       "2     20-6           MICHAEL STRIZZI   \n",
       "3    20-14  SERGEANT SCOTT E MCGOWAN   \n",
       "4    20-17  PATROL DAVID JENNINGS, D   \n",
       "\n",
       "                                           narrative  polarity  subjectivity  \n",
       "0  Erratic opp from North Adams. Maroon vehicle V...  0.000000           1.0  \n",
       "1  NAPD reports light colored SUV hit a light pos...  0.400000           0.7  \n",
       "2  Active Structure fire. l party still inside at... -0.133333           0.6  \n",
       "3                                  One MV, speed: 21  0.000000           0.0  \n",
       "4                              Garage interior door.  0.000000           0.0  "
      ]
     },
     "execution_count": 51,
     "metadata": {},
     "output_type": "execute_result"
    }
   ],
   "source": [
    "call_df.head()"
   ]
  },
  {
   "cell_type": "markdown",
   "metadata": {},
   "source": [
    "Now that we've got the data, let's get some stats and visualize!"
   ]
  },
  {
   "cell_type": "code",
   "execution_count": 60,
   "metadata": {},
   "outputs": [
    {
     "data": {
      "text/plain": [
       "-0.01080010423294552"
      ]
     },
     "execution_count": 60,
     "metadata": {},
     "output_type": "execute_result"
    }
   ],
   "source": [
    "# Look at the overall polarity and subjectivity\n",
    "call_df.polarity.mean()"
   ]
  },
  {
   "cell_type": "code",
   "execution_count": 61,
   "metadata": {},
   "outputs": [
    {
     "data": {
      "text/plain": [
       "0.0"
      ]
     },
     "execution_count": 61,
     "metadata": {},
     "output_type": "execute_result"
    }
   ],
   "source": [
    "call_df.polarity.median()"
   ]
  },
  {
   "cell_type": "code",
   "execution_count": 58,
   "metadata": {},
   "outputs": [
    {
     "data": {
      "text/plain": [
       "0.1927621841222651"
      ]
     },
     "execution_count": 58,
     "metadata": {},
     "output_type": "execute_result"
    }
   ],
   "source": [
    "call_df.subjectivity.mean()"
   ]
  },
  {
   "cell_type": "code",
   "execution_count": 62,
   "metadata": {},
   "outputs": [
    {
     "data": {
      "text/plain": [
       "0.05"
      ]
     },
     "execution_count": 62,
     "metadata": {},
     "output_type": "execute_result"
    }
   ],
   "source": [
    "call_df.subjectivity.median()"
   ]
  },
  {
   "cell_type": "code",
   "execution_count": 63,
   "metadata": {},
   "outputs": [
    {
     "data": {
      "text/plain": [
       "call_taker\n",
       "                                   -0.005136\n",
       "1                                  -0.200000\n",
       "3                                  -0.155556\n",
       "ALL EQUIPMENT POLICE DEPARTMENT    -0.016376\n",
       "BARB BRUCATO                       -0.019935\n",
       "CHIEF KYLE J JOHNSON               -0.010173\n",
       "DISPATCHER CHRISTINE LEMOINE       -0.030182\n",
       "DISPATCHER LAURIE TIJPER           -0.022222\n",
       "DISPATCHER LAURIE TOPER             0.009117\n",
       "DISPATCHER LAURIE TUPER            -0.020521\n",
       "DISPATCHER LAURIE WPER              0.000000\n",
       "DISPATCHER WILLIAM C JENNINGS JR    0.006676\n",
       "LIEUTENANI MICHAEL J ZIEMBA Jr      0.000000\n",
       "LIEUTENANT MICHAEL J ZIEMBA Jr     -0.021285\n",
       "MICHAEL STRIZZI                     0.014355\n",
       "PATROL ANTHONY M DUPRAT            -0.048385\n",
       "PATROL BRAD SACCO                  -0.027417\n",
       "PATROL CRAIG A EIC!ll!AMMER         0.000000\n",
       "PATROL CRAIG A EICHHAMMER          -0.026562\n",
       "PATROL DAVID JENNINGS, D           -0.015972\n",
       "PATROL JOHN J MCCONNELL JR         -0.018452\n",
       "PATROL KALVIN DZIEDZIAK            -0.026829\n",
       "PATROL KEVIN P GARNER               0.000399\n",
       "PATROL SHUAN N WILLIAM              0.009400\n",
       "PATROL SHUANN WILLIAM               0.216667\n",
       "PATROL SHlJAN N WILLIAM             0.000000\n",
       "PATROL TANIA HERNANDEZ              0.000400\n",
       "PATROL TANIA HERNANOEZ              0.000000\n",
       "PATROLMAN SCOTT SKORUPSKI           0.010952\n",
       "SERGEANT DAVID R LEMIEUX            0.016875\n",
       "SERGEANT PAUL D THOMPSON            0.019900\n",
       "SERGEANT SCOTT E MCGOWAN           -0.023810\n",
       "Name: polarity, dtype: float64"
      ]
     },
     "execution_count": 63,
     "metadata": {},
     "output_type": "execute_result"
    }
   ],
   "source": [
    "call_df.groupby('call_taker')['polarity'].mean()"
   ]
  },
  {
   "cell_type": "code",
   "execution_count": 55,
   "metadata": {},
   "outputs": [
    {
     "data": {
      "text/plain": [
       "call_taker\n",
       "                                    0.000000\n",
       "1                                  -0.200000\n",
       "3                                  -0.155556\n",
       "ALL EQUIPMENT POLICE DEPARTMENT     0.000000\n",
       "BARB BRUCATO                        0.000000\n",
       "CHIEF KYLE J JOHNSON                0.000000\n",
       "DISPATCHER CHRISTINE LEMOINE        0.000000\n",
       "DISPATCHER LAURIE TIJPER            0.000000\n",
       "DISPATCHER LAURIE TOPER             0.000000\n",
       "DISPATCHER LAURIE TUPER             0.000000\n",
       "DISPATCHER LAURIE WPER              0.000000\n",
       "DISPATCHER WILLIAM C JENNINGS JR    0.000000\n",
       "LIEUTENANI MICHAEL J ZIEMBA Jr      0.000000\n",
       "LIEUTENANT MICHAEL J ZIEMBA Jr      0.000000\n",
       "MICHAEL STRIZZI                     0.000000\n",
       "PATROL ANTHONY M DUPRAT             0.000000\n",
       "PATROL BRAD SACCO                   0.000000\n",
       "PATROL CRAIG A EIC!ll!AMMER         0.000000\n",
       "PATROL CRAIG A EICHHAMMER           0.000000\n",
       "PATROL DAVID JENNINGS, D            0.000000\n",
       "PATROL JOHN J MCCONNELL JR          0.000000\n",
       "PATROL KALVIN DZIEDZIAK             0.000000\n",
       "PATROL KEVIN P GARNER               0.000000\n",
       "PATROL SHUAN N WILLIAM              0.000000\n",
       "PATROL SHUANN WILLIAM               0.216667\n",
       "PATROL SHlJAN N WILLIAM             0.000000\n",
       "PATROL TANIA HERNANDEZ              0.000000\n",
       "PATROL TANIA HERNANOEZ              0.000000\n",
       "PATROLMAN SCOTT SKORUPSKI           0.000000\n",
       "SERGEANT DAVID R LEMIEUX            0.000000\n",
       "SERGEANT PAUL D THOMPSON            0.000000\n",
       "SERGEANT SCOTT E MCGOWAN            0.000000\n",
       "Name: polarity, dtype: float64"
      ]
     },
     "execution_count": 55,
     "metadata": {},
     "output_type": "execute_result"
    }
   ],
   "source": [
    "call_df.groupby('call_taker')['polarity'].median()"
   ]
  },
  {
   "cell_type": "code",
   "execution_count": 64,
   "metadata": {},
   "outputs": [
    {
     "data": {
      "text/plain": [
       "call_taker\n",
       "                                    0.224305\n",
       "1                                   0.050000\n",
       "3                                   0.288889\n",
       "ALL EQUIPMENT POLICE DEPARTMENT     0.257065\n",
       "BARB BRUCATO                        0.252261\n",
       "CHIEF KYLE J JOHNSON                0.096726\n",
       "DISPATCHER CHRISTINE LEMOINE        0.208512\n",
       "DISPATCHER LAURIE TIJPER            0.094444\n",
       "DISPATCHER LAURIE TOPER             0.214231\n",
       "DISPATCHER LAURIE TUPER             0.235161\n",
       "DISPATCHER LAURIE WPER              0.000000\n",
       "DISPATCHER WILLIAM C JENNINGS JR    0.267363\n",
       "LIEUTENANI MICHAEL J ZIEMBA Jr      0.000000\n",
       "LIEUTENANT MICHAEL J ZIEMBA Jr      0.206981\n",
       "MICHAEL STRIZZI                     0.273514\n",
       "PATROL ANTHONY M DUPRAT             0.195478\n",
       "PATROL BRAD SACCO                   0.133840\n",
       "PATROL CRAIG A EIC!ll!AMMER         0.000000\n",
       "PATROL CRAIG A EICHHAMMER           0.134375\n",
       "PATROL DAVID JENNINGS, D            0.199828\n",
       "PATROL JOHN J MCCONNELL JR          0.124062\n",
       "PATROL KALVIN DZIEDZIAK             0.243451\n",
       "PATROL KEVIN P GARNER               0.102579\n",
       "PATROL SHUAN N WILLIAM              0.089646\n",
       "PATROL SHUANN WILLIAM               0.583333\n",
       "PATROL SHlJAN N WILLIAM             0.000000\n",
       "PATROL TANIA HERNANDEZ              0.046062\n",
       "PATROL TANIA HERNANOEZ              0.000000\n",
       "PATROLMAN SCOTT SKORUPSKI           0.271905\n",
       "SERGEANT DAVID R LEMIEUX            0.071250\n",
       "SERGEANT PAUL D THOMPSON            0.152315\n",
       "SERGEANT SCOTT E MCGOWAN            0.166667\n",
       "Name: subjectivity, dtype: float64"
      ]
     },
     "execution_count": 64,
     "metadata": {},
     "output_type": "execute_result"
    }
   ],
   "source": [
    "call_df.groupby('call_taker')['subjectivity'].mean()"
   ]
  },
  {
   "cell_type": "code",
   "execution_count": 56,
   "metadata": {},
   "outputs": [
    {
     "data": {
      "text/plain": [
       "call_taker\n",
       "                                    0.173333\n",
       "1                                   0.050000\n",
       "3                                   0.288889\n",
       "ALL EQUIPMENT POLICE DEPARTMENT     0.269231\n",
       "BARB BRUCATO                        0.241667\n",
       "CHIEF KYLE J JOHNSON                0.000000\n",
       "DISPATCHER CHRISTINE LEMOINE        0.062500\n",
       "DISPATCHER LAURIE TIJPER            0.000000\n",
       "DISPATCHER LAURIE TOPER             0.100000\n",
       "DISPATCHER LAURIE TUPER             0.153333\n",
       "DISPATCHER LAURIE WPER              0.000000\n",
       "DISPATCHER WILLIAM C JENNINGS JR    0.233333\n",
       "LIEUTENANI MICHAEL J ZIEMBA Jr      0.000000\n",
       "LIEUTENANT MICHAEL J ZIEMBA Jr      0.125000\n",
       "MICHAEL STRIZZI                     0.219048\n",
       "PATROL ANTHONY M DUPRAT             0.000000\n",
       "PATROL BRAD SACCO                   0.000000\n",
       "PATROL CRAIG A EIC!ll!AMMER         0.000000\n",
       "PATROL CRAIG A EICHHAMMER           0.000000\n",
       "PATROL DAVID JENNINGS, D            0.066667\n",
       "PATROL JOHN J MCCONNELL JR          0.000000\n",
       "PATROL KALVIN DZIEDZIAK             0.150000\n",
       "PATROL KEVIN P GARNER               0.000000\n",
       "PATROL SHUAN N WILLIAM              0.000000\n",
       "PATROL SHUANN WILLIAM               0.583333\n",
       "PATROL SHlJAN N WILLIAM             0.000000\n",
       "PATROL TANIA HERNANDEZ              0.000000\n",
       "PATROL TANIA HERNANOEZ              0.000000\n",
       "PATROLMAN SCOTT SKORUPSKI           0.250000\n",
       "SERGEANT DAVID R LEMIEUX            0.000000\n",
       "SERGEANT PAUL D THOMPSON            0.000000\n",
       "SERGEANT SCOTT E MCGOWAN            0.000000\n",
       "Name: subjectivity, dtype: float64"
      ]
     },
     "execution_count": 56,
     "metadata": {},
     "output_type": "execute_result"
    }
   ],
   "source": [
    "call_df.groupby('call_taker')['subjectivity'].median()"
   ]
  }
 ],
 "metadata": {
  "kernelspec": {
   "display_name": "datathon-sentiment",
   "language": "python",
   "name": "datathon-sentiment"
  },
  "language_info": {
   "codemirror_mode": {
    "name": "ipython",
    "version": 3
   },
   "file_extension": ".py",
   "mimetype": "text/x-python",
   "name": "python",
   "nbconvert_exporter": "python",
   "pygments_lexer": "ipython3",
   "version": "3.9.7"
  }
 },
 "nbformat": 4,
 "nbformat_minor": 4
}
