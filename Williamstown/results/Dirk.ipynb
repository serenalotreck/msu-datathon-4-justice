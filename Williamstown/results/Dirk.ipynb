{
 "cells": [
  {
   "cell_type": "markdown",
   "metadata": {},
   "source": [
    "# Text Parser Testing document\n",
    "\n",
    "This document is going to read the text file found in ../generated_data/Logs2020OCR_avepdf.com_horizontal.txt which was generated using the following website:\n",
    "\n",
    "\n",
    "[avepdf.com](http://avepdf.com/)"
   ]
  },
  {
   "cell_type": "code",
   "execution_count": null,
   "metadata": {},
   "outputs": [],
   "source": [
    "import re # Regulra expresion library"
   ]
  },
  {
   "cell_type": "code",
   "execution_count": null,
   "metadata": {},
   "outputs": [],
   "source": [
    "filename='../generated_data/Logs2020OCR_avepdf.com_horizontal.txt'\n",
    "#filename='../generated_data/Logs2019OCR_avepdf.com_horizontal.txt'"
   ]
  },
  {
   "cell_type": "code",
   "execution_count": null,
   "metadata": {},
   "outputs": [],
   "source": [
    "# read file in as a list of lines\n",
    "def readfile(filename):\n",
    "    lines = []\n",
    "    with open(filename) as f:\n",
    "        lines = f.readlines()\n",
    "\n",
    "    for ind in range(len(lines)):\n",
    "        lines[ind] = lines[ind].lstrip().rstrip()\n",
    "    return lines\n",
    "\n",
    "lines = readfile(filename)"
   ]
  },
  {
   "cell_type": "code",
   "execution_count": null,
   "metadata": {},
   "outputs": [],
   "source": [
    "# Parse cells using 20-1 regular expresisons\n",
    "# Result is a list of list where each call is a list of lines for the call.\n",
    "\n",
    "def txt2calls(lines):\n",
    "    calls = []\n",
    "\n",
    "    call = []\n",
    "    for line in lines:\n",
    "        if line == '':\n",
    "            pass\n",
    "        else:\n",
    "            if re.match(\"[1-2][9,0]-[0-9]+\\s\", line[:10]):\n",
    "                if len(call) > 0:\n",
    "                    calls.append(call)\n",
    "                    call = []\n",
    "            call.append(line)\n",
    "    if len(call) > 0:\n",
    "        call.append(line)\n",
    "    return calls\n",
    "\n",
    "calls = txt2calls(lines)"
   ]
  },
  {
   "cell_type": "code",
   "execution_count": null,
   "metadata": {},
   "outputs": [],
   "source": [
    "# #Preview call parsing\n",
    "# from ipywidgets import interact\n",
    "\n",
    "# def view_calls(index=0):\n",
    "#     for line in calls[index]:\n",
    "#         print(line)\n",
    "    \n",
    "# target = interact(view_calls, index=(0,len(calls)-1))"
   ]
  },
  {
   "cell_type": "code",
   "execution_count": null,
   "metadata": {},
   "outputs": [],
   "source": [
    "def parseHeader(line):\n",
    "    '''Parse the first line of each call. Use error checking to find components.'''\n",
    "#     print(line)\n",
    "    index_past = 0\n",
    "        \n",
    "    callNumberMatch = re.search(\"[19,20]-\\d+\", line)\n",
    "    if callNumberMatch == None:\n",
    "        return\n",
    "\n",
    "    callNumber = callNumberMatch.group()\n",
    "    index_past = callNumberMatch.span()[1]\n",
    "    callNumber = line[:index_past]\n",
    "        \n",
    "    timeMatch = re.search(\"\\d\\d\\d\\d\", line[index_past:])\n",
    "    if timeMatch is not None:\n",
    "        callTime = timeMatch.group()\n",
    "        index_past += timeMatch.span()[1]+1\n",
    "    else:\n",
    "        callTime = None\n",
    "        \n",
    "    spaces = 0\n",
    "    index = len(line)-1\n",
    "    while spaces < 8:\n",
    "        if index > 0 and index < len(line):\n",
    "            if line[index] == \" \":\n",
    "                spaces += 1\n",
    "            else:\n",
    "                spaces = 0\n",
    "        else:\n",
    "            break\n",
    "        index -= 1\n",
    "    callReason = re.sub(\"\\s+\", \" \", line[index_past:index])\n",
    "    if len(callReason) > 1:\n",
    "        if callReason[0] == \" \":\n",
    "            callReason = callReason[1:]\n",
    "        if callReason[-1] == \" \":\n",
    "            callReason = callReason[:-1]\n",
    "    else:\n",
    "        callReason=\"\"\n",
    "    \n",
    "    callAction = re.sub(\"\\s+\", \" \", line[index+8:])\n",
    "    if len(callAction) > 1:\n",
    "        if callAction[0] == \" \":\n",
    "            callAction = callAction[1:]\n",
    "        if callAction[-1] == \" \":\n",
    "            callAction = callAction[:-1]\n",
    "    else:\n",
    "        callAction=\"\"\n",
    "        \n",
    "    return [callNumber, callTime, callReason, callAction]\n",
    "\n",
    "def get_unit_times(unit_str):\n",
    "#     print(unit_str)\n",
    "    times = re.sub(' +', ' ',unit_str).split(' ')\n",
    "    tm_dict = {}\n",
    "    for tm in times:\n",
    "        if '-' in tm:\n",
    "            vals = tm.split('-')\n",
    "            tm_dict[vals[0]] = vals[-1]\n",
    "    return tm_dict\n",
    "\n",
    "def parse_call_list(call):\n",
    "    '''Parse a call list into a dictionary'''\n",
    "    \n",
    "    if len(call) == 0:\n",
    "        return\n",
    "    \n",
    "    my_call = {}\n",
    "    \n",
    "    header = parseHeader(call[0])\n",
    "    if header: \n",
    "        my_call['callNumber'] = header[0]\n",
    "        my_call['callTime'] = header[1]\n",
    "        my_call['callReason'] = header[2]\n",
    "        my_call['callAction']= header[3]\n",
    "#     my_call['header'] = call[0]\n",
    "    \n",
    "    ind = 0\n",
    "    individual = ''\n",
    "    while ind < len(call):\n",
    "        line = call[ind]\n",
    "        myline = line.split(':')\n",
    "        if len(myline) == 2:\n",
    "            tag = myline[0].rstrip().lstrip()\n",
    "            tag = re.sub(' +', ' ',tag)\n",
    "            value = myline[1].rstrip().lstrip()\n",
    "            if tag == 'Narrative':\n",
    "                if tag in my_call:\n",
    "                    narrative = my_call['Narrative']\n",
    "                else:\n",
    "                    narrative = ''\n",
    "                ind +=1\n",
    "                while ind < len(call):\n",
    "                    myline = call[ind].split(':')\n",
    "                    if len(myline) == 1:\n",
    "                        narrative += re.sub(' +', ' ',call[ind]) + \" \"\n",
    "                    ind += 1\n",
    "                my_call['Narrative'] = narrative\n",
    "            else:\n",
    "                if tag == \"Unit\":\n",
    "                    ind += 1;\n",
    "                    if ind < len(call):\n",
    "                        unit_info = get_unit_times(call[ind])\n",
    "                        if 'Units' in my_call:\n",
    "                            my_call['Units'].append((value, unit_info))\n",
    "                        else:\n",
    "                            my_call['Units'] = [(value, unit_info)]\n",
    "                else:\n",
    "                    if tag == \"Operator\" or tag == \"Owner\":\n",
    "                        individual=tag+\"_\"\n",
    "                    my_call[tag] = value\n",
    "        else:\n",
    "            if len(myline) > 2:\n",
    "                #print(line)\n",
    "                tags = re.findall('[\\S]+:', line)\n",
    "\n",
    "                for tag in reversed(tags):\n",
    "                    start = line.rindex(tag)\n",
    "                    value = line[start+len(tag):].rstrip().lstrip()\n",
    "\n",
    "                    if len(value) > 0:\n",
    "                        tag = tag[:-1]\n",
    "                        my_call[individual+tag] = value\n",
    "                        line = line[:line.rindex(tag)]\n",
    "\n",
    "            else:\n",
    "                print(\"Parse Error:  \"+line)\n",
    "                print(\"\")\n",
    "        ind +=1\n",
    "\n",
    "    return(my_call)"
   ]
  },
  {
   "cell_type": "code",
   "execution_count": null,
   "metadata": {},
   "outputs": [],
   "source": [
    "def parse_all_calls(calls):\n",
    "    '''Parse all of the calls'''\n",
    "    call_dicts =[]\n",
    "    unit = ''\n",
    "    for call in calls:\n",
    "        my_call = parse_call_list(call)\n",
    "        call_dicts.append(my_call)\n",
    "    return call_dicts\n",
    "\n",
    "call_dicts = parse_all_calls(calls)"
   ]
  },
  {
   "cell_type": "code",
   "execution_count": null,
   "metadata": {},
   "outputs": [],
   "source": [
    "# #Preview call parsing\n",
    "# from ipywidgets import interact\n",
    "\n",
    "# def view_call_dicts(index=0):\n",
    "#     for key in call_dicts[index]:\n",
    "#         print(f\"{key}: {call_dicts[index][key]}\")\n",
    "    \n",
    "# target = interact(view_call_dicts, index=(0,len(calls)-1))"
   ]
  },
  {
   "cell_type": "code",
   "execution_count": null,
   "metadata": {},
   "outputs": [],
   "source": [
    "#Review call parcing data\n",
    "from ipywidgets import interact\n",
    "\n",
    "def view_both(index=0):\n",
    "    print(\"RAW CALL DATA\\n\")\n",
    "    for line in calls[index]:\n",
    "        print(line)\n",
    "    print('========================================')\n",
    "    print(\"PARSED DATA\\n\")\n",
    "    for key in call_dicts[index]:\n",
    "        print(f\"{key}: {call_dicts[index][key]}\")\n",
    "    \n",
    "target = interact(view_both, index=(0,len(calls)-1))"
   ]
  },
  {
   "cell_type": "code",
   "execution_count": null,
   "metadata": {},
   "outputs": [],
   "source": []
  },
  {
   "cell_type": "code",
   "execution_count": null,
   "metadata": {},
   "outputs": [],
   "source": []
  },
  {
   "cell_type": "code",
   "execution_count": null,
   "metadata": {},
   "outputs": [],
   "source": []
  },
  {
   "cell_type": "code",
   "execution_count": null,
   "metadata": {},
   "outputs": [],
   "source": []
  },
  {
   "cell_type": "code",
   "execution_count": null,
   "metadata": {},
   "outputs": [],
   "source": [
    "#Combine everything into one call\n",
    "def parsefile(filename):\n",
    "    lines = readfile(filename)\n",
    "    calls = txt2calls(lines)\n",
    "    call_dicts = parse_all_calls(calls)\n",
    "    return call_dicts"
   ]
  },
  {
   "cell_type": "code",
   "execution_count": null,
   "metadata": {},
   "outputs": [],
   "source": [
    "filename='../generated_data/Logs2019OCR_avepdf.com_horizontal.txt'\n",
    "dict2019 = parsefile(filename)\n",
    "filename='../generated_data/Logs2020OCR_avepdf.com_horizontal.txt'\n",
    "dict2020 = parsefile(filename)\n",
    "\n",
    "call_dicts = dict2019+dict2020"
   ]
  },
  {
   "cell_type": "code",
   "execution_count": null,
   "metadata": {
    "scrolled": true
   },
   "outputs": [],
   "source": [
    "#Count number of STOPS by \"Craig\"\n",
    "total_stops = 0 \n",
    "tot = 0\n",
    "total_race = {}\n",
    "norace = 0\n",
    "my_stops = []\n",
    "for call in call_dicts:\n",
    "    if 'Call Taker' in call:\n",
    "        if \"hammer\" in call['Call Taker'].lower():\n",
    "            tot += 1\n",
    "#             print(call['callReason'])\n",
    "            if \"STOP\" in call['callReason']:\n",
    "                my_stops.append(call)\n",
    "                total_stops += 1\n",
    "                if 'Operator_Race' in call:\n",
    "                    race = call['Operator_Race'].lower()\n",
    "                    if race in total_race:\n",
    "                        total_race[race] = total_race[race]+1\n",
    "                    else:\n",
    "                        total_race[race] = 1\n",
    "                else:\n",
    "                    norace +=1"
   ]
  },
  {
   "cell_type": "code",
   "execution_count": null,
   "metadata": {},
   "outputs": [],
   "source": [
    "total_stops"
   ]
  },
  {
   "cell_type": "code",
   "execution_count": null,
   "metadata": {},
   "outputs": [],
   "source": [
    "tot"
   ]
  },
  {
   "cell_type": "code",
   "execution_count": null,
   "metadata": {},
   "outputs": [],
   "source": [
    "total_race"
   ]
  },
  {
   "cell_type": "code",
   "execution_count": null,
   "metadata": {},
   "outputs": [],
   "source": [
    "#Make a lists of different tags.  Low numbers indicate errors.\n",
    "alltags = {}\n",
    "\n",
    "for call in call_dicts:\n",
    "    for tag in call:\n",
    "        if tag in alltags:\n",
    "            alltags[tag] = alltags[tag] + 1\n",
    "        else:\n",
    "            alltags[tag] = 1\n",
    "        \n",
    "        if len(tag) > 3:\n",
    "            times = ['Disp', 'Arvd', 'Enrt', 'Clrd']\n",
    "            if tag[:4] in times:\n",
    "                print(call)\n",
    "                print(\"\")"
   ]
  },
  {
   "cell_type": "code",
   "execution_count": null,
   "metadata": {},
   "outputs": [],
   "source": [
    "alltags"
   ]
  },
  {
   "cell_type": "code",
   "execution_count": null,
   "metadata": {},
   "outputs": [],
   "source": [
    "len(alltags)"
   ]
  },
  {
   "cell_type": "code",
   "execution_count": null,
   "metadata": {},
   "outputs": [],
   "source": [
    "for tag in alltags:\n",
    "    if len(tag) > 3:\n",
    "        if tag[:4] in ['Disp', 'Ariv', 'Enrt', 'Clrd']:\n",
    "            print(tag)"
   ]
  },
  {
   "cell_type": "code",
   "execution_count": null,
   "metadata": {},
   "outputs": [],
   "source": [
    "len(alltags)"
   ]
  },
  {
   "cell_type": "code",
   "execution_count": null,
   "metadata": {},
   "outputs": [],
   "source": []
  }
 ],
 "metadata": {
  "kernelspec": {
   "display_name": "Python 3 (ipykernel)",
   "language": "python",
   "name": "python3"
  },
  "language_info": {
   "codemirror_mode": {
    "name": "ipython",
    "version": 3
   },
   "file_extension": ".py",
   "mimetype": "text/x-python",
   "name": "python",
   "nbconvert_exporter": "python",
   "pygments_lexer": "ipython3",
   "version": "3.9.7"
  }
 },
 "nbformat": 4,
 "nbformat_minor": 4
}
