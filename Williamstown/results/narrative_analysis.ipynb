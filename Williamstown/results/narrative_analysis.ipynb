{
 "cells": [
  {
   "cell_type": "markdown",
   "metadata": {},
   "source": [
    "# Narrative Analysis\n",
    "In the Williamstown police department data, there are frequently \"Narrative\" fields associated with each incident. We have several overarching questions regarding these narratives, which include:\n",
    "* Is there evidence of the \"boys will be boys\" culture instilled in the department by the previous police chief in the descriptions of incidents and interactions with people of varying demographic backgrounds and incident types? (e.g. do the narratives about noise complaints for parties differ from narratives about the police being called on a young woman?)\n",
    "* Is there evidence that third shift is being more problematic (more tickets, etc) than other shifts? (This question is prompted by the recent revelation that the cop with the Hitler photo in his locker had been leading third shift cops in illegal searches of racial justice activists in the town)\n",
    "* How much time in each shift is, on average, occupied by responding to calls? (This question is aimed at either supporting or disproving the hypothesis that there are too many cops in the department, and that potentially something like third shift could be handled by one on-call individual)\n",
    "* How often and for what types of incidents does Williamstown PD respond to incidents at Williams College? (The PD listens to the Williams College dispatch and responds if the incidents are sever enough/may affect the town itself)\n",
    "\n",
    "In this notebook I'll be relying on [spaCy](https://spacy.io/) to manipulate text. spaCy is a natural language processing (NLP) library that provides functionality for a variety of tasks."
   ]
  },
  {
   "cell_type": "markdown",
   "metadata": {},
   "source": [
    "## Sentiment analysis\n",
    "In this section, we'll explore the use of [sentiment analysis](https://monkeylearn.com/sentiment-analysis/) to see if there is any difference in percieved sentiment across police narratives for different calls. Ideas for this section include:\n",
    "* Associating incident type with narartive sentiment \n",
    "* Associating citizen and cop dempgraphic data with narrative sentiment \n",
    "* Associating specific officers with the average narrative sentiment of thier calls "
   ]
  },
  {
   "cell_type": "markdown",
   "metadata": {},
   "source": [
    "### Polarity analysis\n",
    "Polarity analysis examines whether a text is positive, negative, or neutral in sentiment\n",
    "#### spaCy TextBlob\n",
    "[spaCy TextBlob](https://spacy.io/universe/project/spacy-textblob) is a spaCy pipeline component that connects spaCy's functionality to the [TextBlob](https://github.com/sloria/TextBlob) module."
   ]
  },
  {
   "cell_type": "code",
   "execution_count": 3,
   "metadata": {},
   "outputs": [
    {
     "data": {
      "text/plain": [
       "<spacytextblob.spacytextblob.SpacyTextBlob at 0x7fce29930910>"
      ]
     },
     "execution_count": 3,
     "metadata": {},
     "output_type": "execute_result"
    }
   ],
   "source": [
    "import spacy\n",
    "from spacytextblob.spacytextblob import SpacyTextBlob\n",
    "\n",
    "nlp = spacy.load('en_core_web_sm')\n",
    "nlp.add_pipe('spacytextblob')"
   ]
  },
  {
   "cell_type": "markdown",
   "metadata": {},
   "source": [
    "In this notebook I'll be manually pasting examples of narratives; but this will have to be scaled up once the OCR pipeline is done."
   ]
  },
  {
   "cell_type": "code",
   "execution_count": 6,
   "metadata": {},
   "outputs": [
    {
     "data": {
      "text/plain": [
       "(0.11666666666666665, 0.8000000000000002)"
      ]
     },
     "execution_count": 6,
     "metadata": {},
     "output_type": "execute_result"
    }
   ],
   "source": [
    "# Call 20-4\n",
    "text = (\"Activated Burglar Alarm. Key Holder Notified. Advised Dispatch that they have been having trouble with one of the zones. \"\n",
    "        \"31 advised no need for key holder all is ok.\"\n",
    "        \"Checked building. Front and rear secure. All appears in order. Key holder was on phone with dispatch and satisfied.\")\n",
    "doc = nlp(text)\n",
    "\n",
    "doc._.polarity, doc._.subjectivity"
   ]
  },
  {
   "cell_type": "markdown",
   "metadata": {},
   "source": [
    "From the [TextBlob docs](https://textblob.readthedocs.io/en/dev/quickstart.html#sentiment-analysis): \"The polarity score is a float within the range [-1.0, 1.0]. The subjectivity is a float within the range [0.0, 1.0] where 0.0 is very objective and 1.0 is very subjective.\""
   ]
  },
  {
   "cell_type": "code",
   "execution_count": 7,
   "metadata": {},
   "outputs": [
    {
     "data": {
      "text/plain": [
       "(0.18333333333333335, 0.7444444444444445)"
      ]
     },
     "execution_count": 7,
     "metadata": {},
     "output_type": "execute_result"
    }
   ],
   "source": [
    "# Call 20-6\n",
    "text = (\"Active Structure fire. 1 party still inside at this time. \"\n",
    "        \"Car 1 requesting to see if an officer can check the house aroud 0600 to make sure there are no signs of the fire reigniting.\"\n",
    "        \"House checked\")\n",
    "doc = nlp(text)\n",
    "\n",
    "doc._.polarity, doc._.subjectivity"
   ]
  }
 ],
 "metadata": {
  "kernelspec": {
   "display_name": "datathon-sentiment",
   "language": "python",
   "name": "datathon-sentiment"
  },
  "language_info": {
   "codemirror_mode": {
    "name": "ipython",
    "version": 3
   },
   "file_extension": ".py",
   "mimetype": "text/x-python",
   "name": "python",
   "nbconvert_exporter": "python",
   "pygments_lexer": "ipython3",
   "version": "3.9.7"
  }
 },
 "nbformat": 4,
 "nbformat_minor": 4
}
