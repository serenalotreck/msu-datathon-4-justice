{
 "cells": [
  {
   "cell_type": "markdown",
   "metadata": {},
   "source": [
    "# Text Parser Testing document\n",
    "\n",
    "This document is going to read the text file found in ../generated_data/Logs2020OCR_avepdf.com_horizontal.txt which was generated using the following website:\n",
    "\n",
    "\n",
    "[avepdf.com](http://avepdf.com/)"
   ]
  },
  {
   "cell_type": "code",
   "execution_count": null,
   "metadata": {},
   "outputs": [],
   "source": [
    "import WilliamstownData as wd"
   ]
  },
  {
   "cell_type": "code",
   "execution_count": null,
   "metadata": {},
   "outputs": [],
   "source": [
    "#read in the data \n",
    "filename='../generated_data/Logs2019OCR_avepdf.com_horizontal.txt'\n",
    "dict2019 = wd.parsefile(filename)\n",
    "filename='../generated_data/Logs2020OCR_avepdf.com_horizontal.txt'\n",
    "dict2020 = wd.parsefile(filename)\n",
    "\n",
    "\n",
    "lines = dict2019[0]+dict2020[0]\n",
    "calls = dict2019[1]+dict2020[1]\n",
    "call_dicts = dict2019[2]+dict2020[2]"
   ]
  },
  {
   "cell_type": "code",
   "execution_count": null,
   "metadata": {},
   "outputs": [],
   "source": [
    "#Review call parcing data\n",
    "from ipywidgets import interact\n",
    "\n",
    "def view_both(index=0):\n",
    "    print(\"RAW CALL DATA\\n\")\n",
    "    for line in calls[index]:\n",
    "        print(line)\n",
    "    print('========================================')\n",
    "    print(\"PARSED DATA\\n\")\n",
    "    for key in call_dicts[index]:\n",
    "        print(f\"{key}: {call_dicts[index][key]}\")\n",
    "    \n",
    "target = interact(view_both, index=(0,len(calls)-1))"
   ]
  },
  {
   "cell_type": "code",
   "execution_count": null,
   "metadata": {
    "scrolled": true
   },
   "outputs": [],
   "source": [
    "#Exmaple Count number of STOPS by \"Craig\"\n",
    "total_stops = 0 \n",
    "tot = 0\n",
    "total_race = {}\n",
    "norace = 0\n",
    "my_stops = []\n",
    "for call in call_dicts:\n",
    "    if 'call taker' in call:\n",
    "        if \"hammer\" in call['call taker'].lower():\n",
    "            tot += 1\n",
    "#             print(call['callReason'])\n",
    "            if \"STOP\" in call['reason']:\n",
    "                my_stops.append(call)\n",
    "                total_stops += 1\n",
    "                if 'operator_race' in call:\n",
    "                    race = call['operator_race'].lower()\n",
    "                    if race in total_race:\n",
    "                        total_race[race] = total_race[race]+1\n",
    "                    else:\n",
    "                        total_race[race] = 1\n",
    "                else:\n",
    "                    norace +=1"
   ]
  },
  {
   "cell_type": "code",
   "execution_count": null,
   "metadata": {},
   "outputs": [],
   "source": [
    "total_stops"
   ]
  },
  {
   "cell_type": "code",
   "execution_count": null,
   "metadata": {},
   "outputs": [],
   "source": [
    "tot"
   ]
  },
  {
   "cell_type": "code",
   "execution_count": null,
   "metadata": {},
   "outputs": [],
   "source": [
    "total_race"
   ]
  },
  {
   "cell_type": "code",
   "execution_count": null,
   "metadata": {},
   "outputs": [],
   "source": []
  }
 ],
 "metadata": {
  "kernelspec": {
   "display_name": "Python 3 (ipykernel)",
   "language": "python",
   "name": "python3"
  },
  "language_info": {
   "codemirror_mode": {
    "name": "ipython",
    "version": 3
   },
   "file_extension": ".py",
   "mimetype": "text/x-python",
   "name": "python",
   "nbconvert_exporter": "python",
   "pygments_lexer": "ipython3",
   "version": "3.9.7"
  }
 },
 "nbformat": 4,
 "nbformat_minor": 4
}
