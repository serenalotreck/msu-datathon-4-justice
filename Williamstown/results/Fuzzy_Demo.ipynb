{
 "cells": [
  {
   "cell_type": "markdown",
   "metadata": {},
   "source": [
    "# Text Parser Testing document\n",
    "\n",
    "This document is going to read the text file found in ../generated_data/Logs2020OCR_avepdf.com_horizontal.txt which was generated using the following website:\n",
    "\n",
    "\n",
    "[avepdf.com](http://avepdf.com/)"
   ]
  },
  {
   "cell_type": "code",
   "execution_count": null,
   "metadata": {},
   "outputs": [],
   "source": [
    "import WilliamstownData as wd"
   ]
  },
  {
   "cell_type": "code",
   "execution_count": null,
   "metadata": {},
   "outputs": [],
   "source": [
    "#read in the data \n",
    "filename='../generated_data/Logs2019OCR_avepdf.com_horizontal.txt'\n",
    "dict2019 = wd.parsefile(filename)\n",
    "filename='../generated_data/Logs2020OCR_avepdf.com_horizontal.txt'\n",
    "dict2020 = wd.parsefile(filename)\n",
    "\n",
    "\n",
    "lines = dict2019[0]+dict2020[0]\n",
    "calls = dict2019[1]+dict2020[1]\n",
    "call_dicts = dict2019[2]+dict2020[2]"
   ]
  },
  {
   "cell_type": "code",
   "execution_count": null,
   "metadata": {},
   "outputs": [],
   "source": [
    "#Review call parcing data\n",
    "from ipywidgets import interact\n",
    "\n",
    "def view_both(index=0):\n",
    "    print(\"RAW CALL DATA\\n\")\n",
    "    for line in calls[index]:\n",
    "        print(line)\n",
    "    print('========================================')\n",
    "    print(\"PARSED DATA\\n\")\n",
    "    for key in call_dicts[index]:\n",
    "        print(f\"{key}: {call_dicts[index][key]}\")\n",
    "    \n",
    "target = interact(view_both, index=(0,len(calls)-1))"
   ]
  },
  {
   "cell_type": "code",
   "execution_count": null,
   "metadata": {
    "scrolled": true
   },
   "outputs": [],
   "source": [
    "#Exmaple Count number of STOPS by \"Craig\"\n",
    "total_stops = 0 \n",
    "tot = 0\n",
    "total_race = {}\n",
    "norace = 0\n",
    "my_stops = []\n",
    "for call in call_dicts:\n",
    "    if 'call taker' in call:\n",
    "        if \"hammer\" in call['call taker'].lower():\n",
    "            tot += 1\n",
    "#             print(call['callReason'])\n",
    "            if \"STOP\" in call['reason']:\n",
    "                my_stops.append(call)\n",
    "                total_stops += 1\n",
    "                if 'operator_race' in call:\n",
    "                    race = call['operator_race'].lower()\n",
    "                    if race in total_race:\n",
    "                        total_race[race] = total_race[race]+1\n",
    "                    else:\n",
    "                        total_race[race] = 1\n",
    "                else:\n",
    "                    norace +=1"
   ]
  },
  {
   "cell_type": "code",
   "execution_count": null,
   "metadata": {},
   "outputs": [],
   "source": [
    "total_stops"
   ]
  },
  {
   "cell_type": "code",
   "execution_count": null,
   "metadata": {},
   "outputs": [],
   "source": [
    "tot"
   ]
  },
  {
   "cell_type": "code",
   "execution_count": null,
   "metadata": {},
   "outputs": [],
   "source": [
    "total_race"
   ]
  },
  {
   "cell_type": "code",
   "execution_count": null,
   "metadata": {},
   "outputs": [],
   "source": []
  },
  {
   "cell_type": "code",
   "execution_count": null,
   "metadata": {},
   "outputs": [],
   "source": [
    "#Make a list of names\n",
    "def name_counter(call_dicts):\n",
    "    name_dict = {}\n",
    "\n",
    "    for call in call_dicts:\n",
    "        if 'call taker' in call:\n",
    "            name = call['call taker']\n",
    "            if name in name_dict:\n",
    "                name_dict[name] = name_dict[name] + 1\n",
    "            else:\n",
    "                name_dict[name] = 1\n",
    "    return name_dict\n",
    "\n",
    "name_dict = name_counter(call_dicts)"
   ]
  },
  {
   "cell_type": "code",
   "execution_count": null,
   "metadata": {},
   "outputs": [],
   "source": [
    "name_dict"
   ]
  },
  {
   "cell_type": "code",
   "execution_count": null,
   "metadata": {},
   "outputs": [],
   "source": [
    "from fuzzywuzzy import fuzz, process\n",
    "import pandas as pd\n",
    "import numpy as np\n",
    "\n",
    "df = pd.DataFrame()\n",
    "\n",
    "names, count = [], []\n",
    "\n",
    "for k,v in name_dict.items():\n",
    "    names.append(k)\n",
    "    count.append(v)\n",
    "    \n",
    "    \n",
    "df['call taker'] = names\n",
    "df['count'] = count\n",
    "\n",
    "print(df.shape)\n",
    "df.head(20)"
   ]
  },
  {
   "cell_type": "code",
   "execution_count": null,
   "metadata": {},
   "outputs": [],
   "source": [
    "#Manullay determined after seeing repeats from above\n",
    "\n",
    "top_names = [\"TANIA HERNANDEZ\",\n",
    "\"DAVID JENNINGS, D\",\n",
    "\"SCOTT E MCGOWAN\",\n",
    "\"BRAD SACCO\",\n",
    "\"KALVIN DZIEDZIAK\",\n",
    "\"JOHN J MCCONNELL JR\",\n",
    "\"LAURIE TUPER\",\n",
    "\"SHUAN N WILLIAM\",\n",
    "\"KYLE J JOHNSON\",\n",
    "\"DAVID R LEMIEUX\",\n",
    "\"ANTHONY M DUPRAT\",\n",
    "\"KEVIN P GARNER\",\n",
    "\"MICHAEL J ZIEMBA Jr\",\n",
    "\"SCOTT SKORUPSKI\",\n",
    "\"CHRISTINE LEMOINE\",\n",
    "\"WILLIAM C JENNINGS JR\",\n",
    "\"MICHAEL J ZIEMBA Jr\",\n",
    "\"CRAIG A EICHHAMMER\",\n",
    "\"PAUL D THOMPSON\",\n",
    "\"MICHAEL STRIZZI\",\n",
    "\"LAURIE TOPER\",\n",
    "\"ALL EQUIPMENT POLICE DEPARTMENT\",\n",
    "\"BARB BRUCATO\"]"
   ]
  },
  {
   "cell_type": "code",
   "execution_count": null,
   "metadata": {},
   "outputs": [],
   "source": [
    "from fuzzywuzzy import fuzz, process\n",
    "\n",
    "df['Fuzzy Names'] = ''\n",
    "\n",
    "def fuzz_match():\n",
    "    matched = []\n",
    "    rank_list = [\"CHIEF\", \"PATROL\", \"FATROL\", \"DISPATCHER\", \"SERGEANT\", \"LIEUTENANT\", \"'\", \"PATROLMMI\", \"PATROLMAN\",\n",
    "                'SERGEAN\"T', \"PATROU'1AN\", \"LIEUTRNANT\", \"SERGEAl<T\", \"DISJ?ATCHER\", \"SERGE~.NT\", \"?ATROL\", \"SERGBANT\",\n",
    "                \"PAT~OL\", \"LIEUTENANI\", ]\n",
    "    for i, names in enumerate(df['call taker']): \n",
    "        name = names.split()\n",
    "\n",
    "        rank = [rank for rank in rank_list if name[0] in rank]\n",
    "        for r in rank:\n",
    "            if r in name:\n",
    "                name.remove(r)\n",
    "            continue\n",
    "\n",
    "        name = ' '.join(name)\n",
    "            \n",
    "        df.loc[i, 'Fuzzy Names'] = name\n",
    "\n",
    "        highest = process.extractOne(name,top_names)\n",
    "        match = highest[0]\n",
    "\n",
    "        df.loc[i, 'Matched'] = match            \n",
    "    return df\n",
    "df = fuzz_match()"
   ]
  },
  {
   "cell_type": "code",
   "execution_count": null,
   "metadata": {},
   "outputs": [],
   "source": [
    "df"
   ]
  },
  {
   "cell_type": "code",
   "execution_count": null,
   "metadata": {},
   "outputs": [],
   "source": [
    "lookup = {}\n",
    "for index, row in df.iterrows():\n",
    "    lookup[row['call taker']] = row['Matched']\n",
    "lookup"
   ]
  },
  {
   "cell_type": "code",
   "execution_count": null,
   "metadata": {},
   "outputs": [],
   "source": [
    "for call in call_dicts:\n",
    "    if 'call taker' in call:\n",
    "        name = call['call taker']\n",
    "        if name in lookup:\n",
    "            call['call taker'] = lookup[name]"
   ]
  },
  {
   "cell_type": "code",
   "execution_count": null,
   "metadata": {},
   "outputs": [],
   "source": [
    "name_dict = name_counter(call_dicts)\n",
    "\n",
    "name_dict = {k: v for k, v in sorted(name_dict.items(), key=lambda item: item[1], reverse=True)}\n",
    "name_dict\n"
   ]
  },
  {
   "cell_type": "code",
   "execution_count": null,
   "metadata": {},
   "outputs": [],
   "source": [
    "import matplotlib.pyplot as plt\n",
    "\n",
    "plt.figure(figsize=(20,10))\n",
    "plt.rcParams.update({'font.size':24})\n",
    "plt.bar(list(name_dict.keys()), name_dict.values(), color='g')\n",
    "plt.xticks(rotation=90);\n",
    "plt.ylabel('Number of calls')\n",
    "plt.xlabel('Officer Name')"
   ]
  },
  {
   "cell_type": "code",
   "execution_count": null,
   "metadata": {},
   "outputs": [],
   "source": []
  }
 ],
 "metadata": {
  "kernelspec": {
   "display_name": "Python 3 (ipykernel)",
   "language": "python",
   "name": "python3"
  },
  "language_info": {
   "codemirror_mode": {
    "name": "ipython",
    "version": 3
   },
   "file_extension": ".py",
   "mimetype": "text/x-python",
   "name": "python",
   "nbconvert_exporter": "python",
   "pygments_lexer": "ipython3",
   "version": "3.9.7"
  }
 },
 "nbformat": 4,
 "nbformat_minor": 4
}
